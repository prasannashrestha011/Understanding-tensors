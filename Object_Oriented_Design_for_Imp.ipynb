{
  "nbformat": 4,
  "nbformat_minor": 0,
  "metadata": {
    "colab": {
      "provenance": [],
      "authorship_tag": "ABX9TyPaH50jHeE1ysS5WSuj3ujQ",
      "include_colab_link": true
    },
    "kernelspec": {
      "name": "python3",
      "display_name": "Python 3"
    },
    "language_info": {
      "name": "python"
    }
  },
  "cells": [
    {
      "cell_type": "markdown",
      "metadata": {
        "id": "view-in-github",
        "colab_type": "text"
      },
      "source": [
        "<a href=\"https://colab.research.google.com/github/prasannashrestha011/Understanding-tensors/blob/main/Object_Oriented_Design_for_Imp.ipynb\" target=\"_parent\"><img src=\"https://colab.research.google.com/assets/colab-badge.svg\" alt=\"Open In Colab\"/></a>"
      ]
    },
    {
      "cell_type": "code",
      "execution_count": 1,
      "metadata": {
        "id": "_Je2l9Kt0dsH"
      },
      "outputs": [],
      "source": [
        "import time\n",
        "import numpy as np\n",
        "import torch\n",
        "from torch import nn\n",
        "from d2l import torch as d2l"
      ]
    },
    {
      "cell_type": "markdown",
      "source": [
        "1st utility method, mutating class and adding new method on the specified class"
      ],
      "metadata": {
        "id": "kMvKOTAM2-hT"
      }
    },
    {
      "cell_type": "code",
      "source": [
        "def add_to_class(Class):\n",
        "    \"\"\"Register functions as methods in created class.\"\"\"\n",
        "    def wrapper(obj):\n",
        "        setattr(Class, obj.__name__, obj)\n",
        "    return wrapper"
      ],
      "metadata": {
        "id": "YjoWeScw0nzK"
      },
      "execution_count": 4,
      "outputs": []
    },
    {
      "cell_type": "code",
      "source": [
        "class Person:\n",
        "    pass\n",
        "@add_to_class(Person)\n",
        "def sayHello(self):\n",
        "  print(\"hello\")\n",
        "p=Person()\n",
        "p.sayHello()"
      ],
      "metadata": {
        "colab": {
          "base_uri": "https://localhost:8080/"
        },
        "id": "zE1-Fls-1UEj",
        "outputId": "3ed05191-470e-4983-b9fb-c38a358bf256"
      },
      "execution_count": 7,
      "outputs": [
        {
          "output_type": "stream",
          "name": "stdout",
          "text": [
            "hello\n"
          ]
        }
      ]
    },
    {
      "cell_type": "markdown",
      "source": [
        "second utility method"
      ],
      "metadata": {
        "id": "RbkyHy6o2Qf4"
      }
    },
    {
      "cell_type": "code",
      "source": [
        "class HyperParameters:\n",
        "    \"\"\"The base class of hyperparameters.\"\"\"\n",
        "    def save_hyperparameters(self, ignore=[]):\n",
        "        raise NotImplemented\n",
        "class Person(d2l.HyperParameters):\n",
        "  def __init__(self,a,b,c) -> None:\n",
        "    self.save_hyperparameters(ignore=['c'])\n",
        "    print('self.a =', self.a, 'self.b =', self.b)\n",
        "    print('There is no self.c =', not hasattr(self, 'c'))\n",
        "    pass\n",
        "p=Person(a=1,b=2,c=3)\n"
      ],
      "metadata": {
        "colab": {
          "base_uri": "https://localhost:8080/"
        },
        "id": "2H7eoe7B2UUQ",
        "outputId": "835d79f2-5652-4cee-99d0-0fd989ee537b"
      },
      "execution_count": 11,
      "outputs": [
        {
          "output_type": "stream",
          "name": "stdout",
          "text": [
            "self.a = 1 self.b = 2\n",
            "There is no self.c = True\n"
          ]
        }
      ]
    },
    {
      "cell_type": "markdown",
      "source": [
        "The second one is a utility class that saves all arguments in a class’s __init__ method as class attributes. This allows us to extend constructor call signatures implicitly without additional code.\n",
        "\n"
      ],
      "metadata": {
        "id": "9XjJdX3r2yg8"
      }
    },
    {
      "cell_type": "code",
      "source": [],
      "metadata": {
        "id": "rsng-tpy23pu"
      },
      "execution_count": null,
      "outputs": []
    }
  ]
}