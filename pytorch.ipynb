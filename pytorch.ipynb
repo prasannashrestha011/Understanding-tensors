{
  "nbformat": 4,
  "nbformat_minor": 0,
  "metadata": {
    "colab": {
      "provenance": [],
      "toc_visible": true,
      "authorship_tag": "ABX9TyMUYCwyXIx6/ZA1vY+Kc/CL",
      "include_colab_link": true
    },
    "kernelspec": {
      "name": "python3",
      "display_name": "Python 3"
    },
    "language_info": {
      "name": "python"
    }
  },
  "cells": [
    {
      "cell_type": "markdown",
      "metadata": {
        "id": "view-in-github",
        "colab_type": "text"
      },
      "source": [
        "<a href=\"https://colab.research.google.com/github/prasannashrestha011/Understanding-tensors/blob/main/pytorch.ipynb\" target=\"_parent\"><img src=\"https://colab.research.google.com/assets/colab-badge.svg\" alt=\"Open In Colab\"/></a>"
      ]
    },
    {
      "cell_type": "code",
      "execution_count": null,
      "metadata": {
        "id": "tZ6l7U_PAXb4"
      },
      "outputs": [],
      "source": []
    },
    {
      "cell_type": "code",
      "source": [
        "import torch"
      ],
      "metadata": {
        "id": "ArGjIIboAkDa"
      },
      "execution_count": null,
      "outputs": []
    },
    {
      "cell_type": "code",
      "source": [
        "##adding up column to the row,resulting tensor in one D\n",
        "X = torch.tensor([[1, 2, 3], [4, 5, 6]])\n",
        "X.sum(axis=1)"
      ],
      "metadata": {
        "colab": {
          "base_uri": "https://localhost:8080/"
        },
        "id": "IoAvjfkMAoK-",
        "outputId": "3fe7d749-ccc8-496d-cbe9-03a9305b330c"
      },
      "execution_count": null,
      "outputs": [
        {
          "output_type": "execute_result",
          "data": {
            "text/plain": [
              "tensor([ 6, 15])"
            ]
          },
          "metadata": {},
          "execution_count": 3
        }
      ]
    },
    {
      "cell_type": "code",
      "source": [
        "#obtaining mean of tensor\n",
        "X.sum()/X.numel()"
      ],
      "metadata": {
        "colab": {
          "base_uri": "https://localhost:8080/"
        },
        "id": "OabSl-gOBLt_",
        "outputId": "d700dabf-44f4-44ef-e5db-1a2465658bd4"
      },
      "execution_count": null,
      "outputs": [
        {
          "output_type": "execute_result",
          "data": {
            "text/plain": [
              "tensor(3.5000)"
            ]
          },
          "metadata": {},
          "execution_count": 5
        }
      ]
    },
    {
      "cell_type": "code",
      "source": [
        "#non reduction form of dimension by adding up rows and cols\n",
        "X.sum(axis=0,keepdim=True)"
      ],
      "metadata": {
        "colab": {
          "base_uri": "https://localhost:8080/"
        },
        "id": "sZZNiBoKB2bR",
        "outputId": "f951203b-add7-4146-f713-2c2c0a25d41b"
      },
      "execution_count": null,
      "outputs": [
        {
          "output_type": "execute_result",
          "data": {
            "text/plain": [
              "tensor([[5, 7, 9]])"
            ]
          },
          "metadata": {},
          "execution_count": 6
        }
      ]
    },
    {
      "cell_type": "code",
      "source": [
        "A=torch.tensor([[1,2],[3,4]])\n",
        "A_sum=A.sum(axis=1,keepdim=True)\n",
        "normalized_A=A/A_sum\n",
        "normalized_A"
      ],
      "metadata": {
        "colab": {
          "base_uri": "https://localhost:8080/"
        },
        "id": "ZILMa1hXCCJd",
        "outputId": "bb4849b5-e1db-44eb-9df6-7022dd2677c1"
      },
      "execution_count": null,
      "outputs": [
        {
          "output_type": "execute_result",
          "data": {
            "text/plain": [
              "tensor([[0.3333, 0.6667],\n",
              "        [0.4286, 0.5714]])"
            ]
          },
          "metadata": {},
          "execution_count": 10
        }
      ]
    },
    {
      "cell_type": "code",
      "source": [
        "A=torch.tensor([[1,2,3],[4,5,6],[7,8,9]])\n",
        "print(\"Row cumulative sum= \",A.cumsum(axis=0))\n",
        "print(\"Column cumulative sum: \\n \",A.cumsum(axis=1))"
      ],
      "metadata": {
        "colab": {
          "base_uri": "https://localhost:8080/"
        },
        "id": "dlRVbugsDiGI",
        "outputId": "6446af55-43ba-4df4-bc17-6521c560f18a"
      },
      "execution_count": null,
      "outputs": [
        {
          "output_type": "stream",
          "name": "stdout",
          "text": [
            "Row cumulative sum=  tensor([[ 1,  2,  3],\n",
            "        [ 5,  7,  9],\n",
            "        [12, 15, 18]])\n",
            "Column cumulative sum: \n",
            "  tensor([[ 1,  3,  6],\n",
            "        [ 4,  9, 15],\n",
            "        [ 7, 15, 24]])\n"
          ]
        }
      ]
    }
  ]
}